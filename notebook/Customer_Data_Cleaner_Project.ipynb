{
 "cells": [
  {
   "cell_type": "code",
   "execution_count": 3,
   "id": "45ae4741-6d6b-4fdd-a543-9c0b303262f3",
   "metadata": {},
   "outputs": [
    {
     "name": "stdout",
     "output_type": "stream",
     "text": [
      "Before cleaning:\n",
      "\n",
      "    CustomerName   Gender   Age    City     JoinDate    PhoneNumber\n",
      "0    Rahul kumar     Male    28   delhi   2022-03-15     9876543210\n",
      "1  PRIYA  sharma   FEMALE    31  mumbai   15/08/2021    98765 43210\n",
      "2     Amit singh   female    35   Patna   2020-07-10    98765-43210\n",
      "3    Mohd. Ayaan        M    24  delhi    01-01-2023           None\n",
      "4           None     None  None   DELHI         None  not available\n",
      "5    rahul kumar     MALE    28   delhi   2022-03-15     9876543210\n",
      "6   Pooja Mishra        F    27   noida   2021/12/01  91-9876543210\n",
      "7      Ankit raj    Male          Patna  10 Aug 2020      987654321\n",
      "8     Meena Devi   female    29   Noida   15-08-2021    09876543210\n",
      "9     Meena devi  FEMALE     29  noida    15-08-2021    98765 43210\n",
      "\n",
      "After cleaning:\n",
      "\n",
      "    CustomerName  Gender   Age    City   JoinDate   PhoneNumber\n",
      "0    Rahul Kumar    Male  28.0   Delhi 2022-03-15    9876543210\n",
      "1  Priya  Sharma  Female  31.0  Mumbai        NaT    9876543210\n",
      "2     Amit Singh  Female  35.0   Patna 2020-07-10    9876543210\n",
      "3    Mohd. Ayaan    Male  24.0   Delhi        NaT  Not Provided\n",
      "4        Unknown    None  28.5   Delhi        NaT  Not Provided\n",
      "6   Pooja Mishra  Female  27.0   Noida        NaT  919876543210\n",
      "7      Ankit Raj    Male  28.5   Patna        NaT  Not Provided\n",
      "8     Meena Devi  Female  29.0   Noida        NaT   09876543210\n",
      "9     Meena Devi  Female  29.0   Noida        NaT    9876543210\n",
      "\n",
      "File saved: cleaned_indian_customer_data.csv\n"
     ]
    }
   ],
   "source": [
    "import pandas as pd\n",
    "\n",
    "# Sample messy dataset with common issues like missing values, inconsistent formatting, etc.\n",
    "data = {\n",
    "    \"CustomerName\": [\n",
    "        \"Rahul kumar\", \"PRIYA  sharma\", \"Amit singh\", \"Mohd. Ayaan\", None,\n",
    "        \"rahul kumar\", \"Pooja Mishra\", \"  Ankit raj\", \"Meena Devi\", \"Meena devi\"\n",
    "    ],\n",
    "    \"Gender\": [\n",
    "        \"Male\", \"FEMALE\", \"female\", \"M\", None,\n",
    "        \"MALE\", \"F\", \"Male \", \"female\", \"FEMALE \"\n",
    "    ],\n",
    "    \"Age\": [28, 31, 35, 24, None, 28, 27, \"\", 29, 29],\n",
    "    \"City\": [\n",
    "        \"delhi\", \"mumbai\", \"Patna\", \"delhi \", \"DELHI\",\n",
    "        \"delhi\", \"noida\", \"Patna\", \"Noida\", \"noida \"\n",
    "    ],\n",
    "    \"JoinDate\": [\n",
    "        \"2022-03-15\", \"15/08/2021\", \"2020-07-10\", \"01-01-2023\", None,\n",
    "        \"2022-03-15\", \"2021/12/01\", \"10 Aug 2020\", \"15-08-2021\", \" 15-08-2021\"\n",
    "    ],\n",
    "    \"PhoneNumber\": [\n",
    "        \"9876543210\", \"98765 43210\", \"98765-43210\", None, \"not available\",\n",
    "        \"9876543210\", \"91-9876543210\", \"987654321\", \"09876543210\", \"98765 43210\"\n",
    "    ]\n",
    "}\n",
    "\n",
    "df = pd.DataFrame(data)\n",
    "\n",
    "# Save raw data (optional)\n",
    "df.to_csv(\"messy_indian_customer_data.csv\", index=False)\n",
    "\n",
    "print(\"Before cleaning:\\n\")\n",
    "print(df)\n",
    "\n",
    "# Filling missing names\n",
    "df['CustomerName'] = df['CustomerName'].fillna(\"Unknown\")\n",
    "df['CustomerName'] = df['CustomerName'].str.strip().str.title()\n",
    "\n",
    "# Fix gender values\n",
    "df['Gender'] = df['Gender'].str.strip().str.upper()\n",
    "df['Gender'] = df['Gender'].replace({'M': 'Male', 'F': 'Female', 'FEMALE': 'Female', 'MALE': 'Male'})\n",
    "\n",
    "# Handle age column\n",
    "df['Age'] = pd.to_numeric(df['Age'], errors='coerce')\n",
    "df['Age'] = df['Age'].fillna(df['Age'].median())\n",
    "\n",
    "# Standardize city names\n",
    "df['City'] = df['City'].str.strip().str.title()\n",
    "\n",
    "# Clean join date\n",
    "df['JoinDate'] = df['JoinDate'].fillna(\"01/01/2020\")\n",
    "df['JoinDate'] = pd.to_datetime(df['JoinDate'], errors='coerce')\n",
    "\n",
    "# Clean phone numbers\n",
    "df['PhoneNumber'] = df['PhoneNumber'].fillna(\"Not Provided\")\n",
    "df['PhoneNumber'] = df['PhoneNumber'].str.replace(r'\\D', '', regex=True)\n",
    "df['PhoneNumber'] = df['PhoneNumber'].apply(lambda x: x if len(x) >= 10 else \"Not Provided\")\n",
    "\n",
    "# Remove duplicates\n",
    "df = df.drop_duplicates()\n",
    "\n",
    "print(\"\\nAfter cleaning:\\n\")\n",
    "print(df)\n",
    "\n",
    "# Save cleaned data\n",
    "df.to_csv(\"cleaned_indian_customer_data.csv\", index=False)\n",
    "print(\"\\nFile saved: cleaned_indian_customer_data.csv\")"
   ]
  },
  {
   "cell_type": "code",
   "execution_count": 15,
   "id": "6887c5e0-491e-4c00-aa6c-803bddee070b",
   "metadata": {},
   "outputs": [
    {
     "name": "stdout",
     "output_type": "stream",
     "text": [
      "File saved at: C:\\Users\\sapna\n"
     ]
    }
   ],
   "source": [
    "import os\n",
    "print(\"File saved at:\", os.getcwd())"
   ]
  },
  {
   "cell_type": "code",
   "execution_count": null,
   "id": "87eae18c-c6a2-46dd-93e9-52cc671040fd",
   "metadata": {},
   "outputs": [],
   "source": []
  },
  {
   "cell_type": "code",
   "execution_count": null,
   "id": "537d434b-5f8c-4687-9c6c-e9fde250482b",
   "metadata": {},
   "outputs": [],
   "source": []
  }
 ],
 "metadata": {
  "kernelspec": {
   "display_name": "Python 3 (ipykernel)",
   "language": "python",
   "name": "python3"
  },
  "language_info": {
   "codemirror_mode": {
    "name": "ipython",
    "version": 3
   },
   "file_extension": ".py",
   "mimetype": "text/x-python",
   "name": "python",
   "nbconvert_exporter": "python",
   "pygments_lexer": "ipython3",
   "version": "3.12.7"
  }
 },
 "nbformat": 4,
 "nbformat_minor": 5
}
